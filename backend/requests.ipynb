{
 "cells": [
  {
   "cell_type": "code",
   "execution_count": 3,
   "id": "c002f840",
   "metadata": {},
   "outputs": [
    {
     "name": "stdout",
     "output_type": "stream",
     "text": [
      "{'response': 'According to the Kenya Mental Health Policy 2015-2030, the guidelines around mental health in Kenya are outlined in the following thematic areas with key recommendations:\\n\\n1. Mental Health & Wellbeing:\\n\\t* Promotion of mental health and wellness programs at all levels of society\\n\\t* Cabinet to approve and gazette the National mental health awareness week on every 2nd week of October\\n2. Burden of mental illness:\\n\\t* Declare mental ill health as a National public health emergency of an epidemic proportion\\n\\nAdditionally, the policy aims to address the following systemic challenges and emerging trends in mental health care in Kenya:\\n\\n* Align mental health services with the Constitution of Kenya and the National and Global health agenda\\n* Integrate mental health services within the Kenya Essential Package for Health (KEPH)\\n* Promote, respect, and observe the rights of persons with mental disorders in accordance with national and international laws\\n\\nPlease note that the policy is focused on addressing the barriers to increased access to effective mental health services, including the absence of mental health from the public health agenda, inadequate human resources, and lack of public mental health leadership.', 'context_sources': ['KENYA MENTAL HEALTH ACTION PLAN (2021-2025).pdf', 'NATIONAL-CLINICAL-GUIDELINES-FOR-MANAGEMENT-OF-COMMON-MENTAL-DISORDERS.pdf', 'Kenya Mental Health Policy.pdf']}\n"
     ]
    }
   ],
   "source": [
    "import requests\n",
    "\n",
    "url = \"http://127.0.0.1:8000/chat\"\n",
    "payload = {\n",
    "    \"message\": \"What are the guidelines around mental health in kenya?\",\n",
    "    \"session_id\": \"test_session\"\n",
    "}\n",
    "response = requests.post(url, json=payload)\n",
    "print(response.json())"
   ]
  }
 ],
 "metadata": {
  "kernelspec": {
   "display_name": ".venv",
   "language": "python",
   "name": "python3"
  },
  "language_info": {
   "codemirror_mode": {
    "name": "ipython",
    "version": 3
   },
   "file_extension": ".py",
   "mimetype": "text/x-python",
   "name": "python",
   "nbconvert_exporter": "python",
   "pygments_lexer": "ipython3",
   "version": "3.10.11"
  }
 },
 "nbformat": 4,
 "nbformat_minor": 5
}
